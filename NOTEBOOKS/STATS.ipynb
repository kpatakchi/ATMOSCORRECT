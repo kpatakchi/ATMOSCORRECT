{
 "cells": [
  {
   "cell_type": "code",
   "execution_count": null,
   "id": "0a2d3ae5-1854-4c89-ad37-4bed4205d98c",
   "metadata": {
    "tags": []
   },
   "outputs": [],
   "source": [
    "! pip install xskillscore\n",
    "import xskillscore as xs"
   ]
  },
  {
   "cell_type": "markdown",
   "id": "7657b25f-0af5-4b57-94cd-ac992d4fc405",
   "metadata": {
    "tags": []
   },
   "source": [
    "## Calculate Statistics"
   ]
  },
  {
   "cell_type": "code",
   "execution_count": 5,
   "id": "a59ad40b-4f1d-4fc8-8121-87e50d9b153d",
   "metadata": {
    "tags": []
   },
   "outputs": [],
   "source": [
    "#! rm $STATS/*\n",
    "\n",
    "from py_env_hpc import *\n",
    "HPT_PATH = PSCRATCH_DIR + \"HPT_v1/\" # directory to look for HPT results\n",
    "train_data_name = \"train_data_hourly_pr_['HRES']_['HSAF']_MM_6__spatiotemporal_128.256_2020-07-01T13_2023-03-26T23_no_na.npz\" # name of the training data used for training\n",
    "produce_data_name = \"produce_for_train_data_hourly_pr_['HRES']_['HSAF']_MM_6__spatiotemporal_128.256_2020-07-01T13_2023-04-26T23_no_na.npz\" # name of the production file name used for production\n",
    "training_unique_name = \"mse_64_0.001_1e-14_0.5_2_16_8_0.1_64\"\n",
    "predict_data_name = \"predicted_for_\" + produce_data_name[12:-4] + \"_\" + training_unique_name + \".npz\"\n",
    "date_start=\"2020-07-01T14\"\n",
    "date_end = \"2023-04-26T23\"\n",
    "model_data=\"HRES\"\n",
    "reference_data=\"HSAF\"\n",
    "variable=\"pr\""
   ]
  },
  {
   "cell_type": "markdown",
   "id": "b8f116ff-17ae-433a-99d8-2c9b8332416c",
   "metadata": {
    "tags": []
   },
   "source": [
    "### 0. Dataset Read/Write"
   ]
  },
  {
   "cell_type": "markdown",
   "id": "9b05a737-67c8-4f3d-8707-aa7aa9dd677c",
   "metadata": {
    "tags": []
   },
   "source": [
    "#### 0.1 Read NetCDFs"
   ]
  },
  {
   "cell_type": "code",
   "execution_count": 6,
   "id": "77c40aee-1df5-4e44-88d5-7c1eadef1bee",
   "metadata": {},
   "outputs": [],
   "source": [
    "# 1) Open the datasets:\n",
    "HRES = xr.open_dataset(f\"{ATMOS_DATA}/HRES_pr.nc\").sel(time=slice(date_start, date_end))\n",
    "HSAF = xr.open_dataset(f\"{ATMOS_DATA}/HSAF_pr.nc\").sel(time=slice(date_start, date_end))\n",
    "HRES_C = xr.open_dataset(f\"{PREDICT_FILES}/HRES_C_{produce_data_name[12:-4]}_{training_unique_name}.nc\").sel(time=slice(date_start, date_end))\n",
    "\n",
    "# Replace precipitation values less than 0 with zero in HRES_C\n",
    "HRES_C[\"pr\"] = HRES_C[\"pr\"].where(HRES_C[\"pr\"] >= 0, 0)"
   ]
  },
  {
   "cell_type": "markdown",
   "id": "e15db42e-8221-4aa4-9db1-2ae18d0a9b9b",
   "metadata": {
    "tags": []
   },
   "source": [
    "#### 0.2 Write train_val_test arrays\n",
    "\n",
    "Prepares training, validation, and testing datasets from the best trained model."
   ]
  },
  {
   "cell_type": "markdown",
   "id": "176f218f-3eb8-4a0d-b208-726242a14efe",
   "metadata": {},
   "source": [
    "##### 0.2.1 Overall"
   ]
  },
  {
   "cell_type": "code",
   "execution_count": 7,
   "id": "cf33a6a6-5f9a-4766-a20d-36bc503b7fd3",
   "metadata": {
    "tags": []
   },
   "outputs": [],
   "source": [
    "# LOAD the data\n",
    "train_ind_file = PPROJECT_DIR + '/AI MODELS/00-UNET/' + train_data_name[:-4] + \"_train_indices.npy\"\n",
    "val_ind_file = PPROJECT_DIR + '/AI MODELS/00-UNET/' + train_data_name[:-4] + \"_val_indices.npy\"\n",
    "produce_file = PRODUCE_FILES + \"/\" + produce_data_name\n",
    "predict_file = PREDICT_FILES + \"/\" + predict_data_name\n",
    "predicted_data = np.load(predict_file)\n",
    "\n",
    "produce_file = np.load(produce_file)\n",
    "mm_act = produce_file[\"canvas_y\"][..., 0]\n",
    "mask = produce_file[\"canvas_m\"].astype(bool)[..., 0]\n",
    "hres = produce_file[\"canvas_x\"][..., 1]\n",
    "days = produce_file[\"canvas_x\"][..., 50, 50, 2]\n",
    "\n",
    "mm_pred = predicted_data[\"Y_PRED\"]\n",
    "hres_c = hres - mm_pred\n",
    "hres_c[hres_c < 0] = 0\n",
    "hsaf = hres - mm_act\n",
    "\n",
    "train_indices = np.load(train_ind_file)\n",
    "val_indices = np.load(val_ind_file)\n",
    "all_indices = np.arange(len(days))\n",
    "test_indices = np.setdiff1d(all_indices, np.concatenate([train_indices, val_indices]))"
   ]
  },
  {
   "cell_type": "code",
   "execution_count": 101,
   "id": "7e8ddb95-8466-4024-b4f8-24e66f747b45",
   "metadata": {
    "tags": []
   },
   "outputs": [],
   "source": [
    "def split_data(hsaf, mask, hres, days, hres_c, mm_act, mm_pred, indices, set_name):\n",
    "    hsaf_out, mask_out, hres_out, days_out, hres_c_out, mm_act_out, mm_pred_out = (\n",
    "        hsaf[indices], mask[indices], hres[indices], days[indices], hres_c[indices], \n",
    "        mm_act[indices], mm_pred[indices])\n",
    "\n",
    "    hres_points = hres_out[mask_out]\n",
    "    hres_c_points = hres_c_out[mask_out]\n",
    "    mm_act_points = mm_act_out[mask_out]\n",
    "    mm_pred_points = mm_pred_out[mask_out]\n",
    "    hsaf_points = hsaf_out[mask_out]\n",
    "\n",
    "    return {\n",
    "        f\"hsaf_{set_name}\": hsaf_out,\n",
    "        f\"mask_{set_name}\": mask_out,\n",
    "        f\"hres_{set_name}\": hres_out,\n",
    "        f\"days_{set_name}\": days_out,\n",
    "        f\"hres_c_{set_name}\": hres_c_out,\n",
    "        f\"mm_act_{set_name}\": mm_act_out,\n",
    "        f\"mm_pred_{set_name}\": mm_pred_out,\n",
    "        f\"hres_{set_name}_points\": hres_points,\n",
    "        f\"hres_c_{set_name}_points\": hres_c_points,\n",
    "        f\"mm_act_{set_name}_points\": mm_act_points,\n",
    "        f\"mm_pred_{set_name}_points\": mm_pred_points,\n",
    "        f\"hsaf_{set_name}_points\": hsaf_points}\n",
    "\n",
    "# Splitting the data\n",
    "train_data = split_data(hsaf, mask, hres, days, hres_c, mm_act, mm_pred, train_indices, \"train\")\n",
    "val_data = split_data(hsaf, mask, hres, days, hres_c, mm_act, mm_pred, val_indices, \"val\")\n",
    "test_data = split_data(hsaf, mask, hres, days, hres_c, mm_act, mm_pred, test_indices, \"test\")\n",
    "\n",
    "# Merging the data dictionaries\n",
    "data = {**train_data, **val_data, **test_data}\n",
    "\n",
    "# Save the arrays as a NumPy .npz file\n",
    "np.savez(STATS + \"/data_splits.npz\", **data)"
   ]
  },
  {
   "cell_type": "markdown",
   "id": "713afa20-41af-44b5-833d-695cd7cd5468",
   "metadata": {},
   "source": [
    "##### 0.2.2 Seasonal"
   ]
  },
  {
   "cell_type": "code",
   "execution_count": 106,
   "id": "87c07c84-bc7f-465a-a0ab-2181e6807684",
   "metadata": {
    "tags": []
   },
   "outputs": [],
   "source": [
    "def get_season_indices(days):\n",
    "    spring_indices = np.where((days >= 60) & (days <= 151))[0]\n",
    "    summer_indices = np.where((days >= 152) & (days <= 243))[0]\n",
    "    autumn_indices = np.where((days >= 244) & (days <= 334))[0]\n",
    "    winter_indices = np.where((days >= 335) | (days <= 59))[0]\n",
    "    return spring_indices, summer_indices, autumn_indices, winter_indices\n",
    "\n",
    "spring_indices_train, summer_indices_train, autumn_indices_train, winter_indices_train = get_season_indices(data[\"days_train\"])\n",
    "spring_indices_val, summer_indices_val, autumn_indices_val, winter_indices_val = get_season_indices(data[\"days_val\"])\n",
    "spring_indices_test, summer_indices_test, autumn_indices_test, winter_indices_test = get_season_indices(data[\"days_test\"])\n",
    "\n",
    "seasons = ['spring', 'autumn', 'summer', 'winter']\n",
    "kinds = ['train', 'val', 'test']\n",
    "\n",
    "season_data = {}\n",
    "for season in seasons:\n",
    "    for kind in kinds:\n",
    "        indices = globals()[f'{season}_indices_{kind}']\n",
    "        season_data[f'hsaf_{kind}_{season}'] = data[f'hsaf_{kind}'][indices]\n",
    "        season_data[f'mask_{kind}_{season}'] = data[f'mask_{kind}'][indices]\n",
    "        season_data[f'hres_{kind}_{season}'] = data[f'hres_{kind}'][indices]\n",
    "        season_data[f'days_{kind}_{season}'] = data[f'days_{kind}'][indices]\n",
    "        season_data[f'hres_c_{kind}_{season}'] = data[f'hres_c_{kind}'][indices]\n",
    "        season_data[f'mm_act_{kind}_{season}'] = data[f'mm_act_{kind}'][indices]\n",
    "        season_data[f'mm_pred_{kind}_{season}'] = data[f'mm_pred_{kind}'][indices]\n",
    "        \n",
    "        mask_indices = data[f'mask_{kind}'][indices]\n",
    "\n",
    "        season_data[f'hsaf_{kind}_{season}_points'] = data[f'hsaf_{kind}'][indices][mask_indices]\n",
    "        season_data[f'mask_{kind}_{season}_points'] = data[f'mask_{kind}'][indices][mask_indices]\n",
    "        season_data[f'hres_{kind}_{season}_points'] = data[f'hres_{kind}'][indices][mask_indices]\n",
    "        season_data[f'hres_c_{kind}_{season}_points'] = data[f'hres_c_{kind}'][indices][mask_indices]\n",
    "        season_data[f'mm_act_{kind}_{season}_points'] = data[f'mm_act_{kind}'][indices][mask_indices]\n",
    "        season_data[f'mm_pred_{kind}_{season}_points'] = data[f'mm_pred_{kind}'][indices][mask_indices]\n",
    "        \n",
    "np.savez(STATS + \"/data_splits_seasonal.npz\", **season_data)"
   ]
  },
  {
   "cell_type": "markdown",
   "id": "39cf5b40-122d-4605-804b-0885d5d70f46",
   "metadata": {
    "tags": []
   },
   "source": [
    "### 1. Resampled Data and Masks"
   ]
  },
  {
   "cell_type": "markdown",
   "id": "ebf57013-3567-4833-8d44-3719984c221c",
   "metadata": {},
   "source": [
    "#### 1.1. Resampled HRES/HSAF and no-NA Masks"
   ]
  },
  {
   "cell_type": "code",
   "execution_count": 80,
   "id": "5d4d90d7-d846-4b93-9044-96a5b4b79c8a",
   "metadata": {},
   "outputs": [
    {
     "name": "stdout",
     "output_type": "stream",
     "text": [
      "Resampling HRES and HSAF to daily...\n",
      "Resampling HRES and HSAF to daily complete.\n",
      "Resampling HRES and HSAF to monthly...\n",
      "Resampling HRES and HSAF to monthly complete.\n",
      "Resampling HRES_C to daily...\n",
      "Resampling HRES_C to daily complete.\n",
      "Resampling HRES_C to monthly...\n",
      "Resampling HRES_C to monthly complete.\n",
      "Saving resampled datasets...\n",
      "Resampled datasets saved.\n",
      "Calculating masks...\n",
      "Calculating masks completed\n",
      "Saving masks...\n",
      "Masks saved.\n"
     ]
    }
   ],
   "source": [
    "# Resample HRES and HSAF datasets to daily temporal resolution\n",
    "print(\"Resampling HRES and HSAF to daily...\")\n",
    "HRES_resampled_daily = HRES.resample(time=\"1D\").sum(skipna=True)\n",
    "HSAF_resampled_daily = HSAF.resample(time=\"1D\").sum(skipna=True)\n",
    "print(\"Resampling HRES and HSAF to daily complete.\")\n",
    "\n",
    "# Resample HRES and HSAF datasets to monthly temporal resolution\n",
    "print(\"Resampling HRES and HSAF to monthly...\")\n",
    "HRES_resampled_monthly = HRES.resample(time=\"1M\").sum(skipna=True)\n",
    "HSAF_resampled_monthly = HSAF.resample(time=\"1M\").sum(skipna=True)\n",
    "print(\"Resampling HRES and HSAF to monthly complete.\")\n",
    "\n",
    "# Resample HRES_C dataset to daily temporal resolution\n",
    "print(\"Resampling HRES_C to daily...\")\n",
    "HRES_C_resampled_daily = HRES_C.resample(time=\"1D\").sum(skipna=True)\n",
    "print(\"Resampling HRES_C to daily complete.\")\n",
    "\n",
    "# Resample HRES_C dataset to monthly temporal resolution\n",
    "print(\"Resampling HRES_C to monthly...\")\n",
    "HRES_C_resampled_monthly = HRES_C.resample(time=\"1M\").sum(skipna=True)\n",
    "print(\"Resampling HRES_C to monthly complete.\")\n",
    "\n",
    "# Save the resampled datasets as NetCDF files\n",
    "print(\"Saving resampled datasets...\")\n",
    "HRES_resampled_daily.to_netcdf(f\"{STATS}HRES_pr_daily.nc\")\n",
    "HSAF_resampled_daily.to_netcdf(f\"{STATS}HSAF_pr_daily.nc\")\n",
    "HRES_resampled_monthly.to_netcdf(f\"{STATS}HRES_pr_monthly.nc\")\n",
    "HSAF_resampled_monthly.to_netcdf(f\"{STATS}HSAF_pr_monthly.nc\")\n",
    "HRES_C_resampled_daily.to_netcdf(f\"{STATS}HRES_C_pr_daily.nc\")\n",
    "HRES_C_resampled_monthly.to_netcdf(f\"{STATS}HRES_C_pr_monthly.nc\")\n",
    "print(\"Resampled datasets saved.\")\n",
    "\n",
    "# Calculate masks\n",
    "print(\"Calculating masks...\")\n",
    "mask_hourly = HSAF > -100\n",
    "print(\"Calculating masks completed\")\n",
    "\n",
    "# Save the masks as NetCDF files\n",
    "print(\"Saving masks...\")\n",
    "mask_hourly.to_netcdf(f\"{STATS}nona_mask_pr_hourly.nc\")\n",
    "print(\"Masks saved.\")"
   ]
  },
  {
   "cell_type": "markdown",
   "id": "0885316b-ce6f-49c9-bc7e-9ace97e5fcfd",
   "metadata": {
    "tags": []
   },
   "source": [
    "### 2. Error (mismatch):"
   ]
  },
  {
   "cell_type": "code",
   "execution_count": null,
   "id": "b8edf7e2-2d95-4f35-bc22-7692f0b0cd0f",
   "metadata": {},
   "outputs": [],
   "source": [
    "# calculate:\n",
    "import dask.array as da\n",
    "HRES_da = da.from_array(HRES[\"pr\"].data, chunks=\"auto\")\n",
    "HSAF_da = da.from_array(HSAF[\"pr\"].data, chunks=\"auto\")\n",
    "error = HRES_da - HSAF_da\n",
    "error_dataset = xr.Dataset({\"error\": ([\"time\", \"latitude\", \"longitude\"], error.compute())})\n",
    "output_path = STATS + \"/error.nc\"\n",
    "error_dataset.to_netcdf(output_path)"
   ]
  },
  {
   "cell_type": "code",
   "execution_count": null,
   "id": "23bab337-c73c-45c1-82c5-414ad12b440c",
   "metadata": {},
   "outputs": [],
   "source": [
    "# open:\n",
    "output_path = STATS + \"/error.nc\"\n",
    "E = xr.open_dataset(output_path)\n",
    "E"
   ]
  },
  {
   "cell_type": "markdown",
   "id": "12985371-1134-4286-8278-1f30d082556c",
   "metadata": {
    "tags": []
   },
   "source": [
    "### 3. ME, RMSE, and COR for 4 seasons and 3 temporal resolutions:"
   ]
  },
  {
   "cell_type": "markdown",
   "id": "ba728a2b-47df-4fb2-818c-4117b6f89a53",
   "metadata": {},
   "source": [
    "#### 3.1 For HRES"
   ]
  },
  {
   "cell_type": "code",
   "execution_count": 81,
   "id": "2a079c7c-86ed-4476-a051-11649dafaa41",
   "metadata": {},
   "outputs": [
    {
     "name": "stdout",
     "output_type": "stream",
     "text": [
      "Processing: ME_monthly_DJF\n",
      "Saved file: /p/scratch/deepacf/kiste/patakchiyousefi1/STATS/DJF_monthly_ME.nc\n",
      "Processing: RMSE_monthly_DJF\n",
      "Saved file: /p/scratch/deepacf/kiste/patakchiyousefi1/STATS/DJF_monthly_RMSE.nc\n",
      "Processing: COR_monthly_DJF\n",
      "Saved file: /p/scratch/deepacf/kiste/patakchiyousefi1/STATS/DJF_monthly_COR.nc\n",
      "Processing: ME_monthly_MAM\n",
      "Saved file: /p/scratch/deepacf/kiste/patakchiyousefi1/STATS/MAM_monthly_ME.nc\n",
      "Processing: RMSE_monthly_MAM\n",
      "Saved file: /p/scratch/deepacf/kiste/patakchiyousefi1/STATS/MAM_monthly_RMSE.nc\n",
      "Processing: COR_monthly_MAM\n",
      "Saved file: /p/scratch/deepacf/kiste/patakchiyousefi1/STATS/MAM_monthly_COR.nc\n",
      "Processing: ME_monthly_JJA\n",
      "Saved file: /p/scratch/deepacf/kiste/patakchiyousefi1/STATS/JJA_monthly_ME.nc\n",
      "Processing: RMSE_monthly_JJA\n",
      "Saved file: /p/scratch/deepacf/kiste/patakchiyousefi1/STATS/JJA_monthly_RMSE.nc\n",
      "Processing: COR_monthly_JJA\n"
     ]
    },
    {
     "name": "stderr",
     "output_type": "stream",
     "text": [
      "/p/project/deepacf/kiste/patakchiyousefi1/SC_VENV/envs/prc_env/lib/python3.8/site-packages/xskillscore/core/np_deterministic.py:309: RuntimeWarning: invalid value encountered in divide\n",
      "  r = r_num / r_den\n",
      "/p/project/deepacf/kiste/patakchiyousefi1/SC_VENV/envs/prc_env/lib/python3.8/site-packages/xskillscore/core/np_deterministic.py:309: RuntimeWarning: invalid value encountered in divide\n",
      "  r = r_num / r_den\n",
      "/p/project/deepacf/kiste/patakchiyousefi1/SC_VENV/envs/prc_env/lib/python3.8/site-packages/xskillscore/core/np_deterministic.py:309: RuntimeWarning: invalid value encountered in divide\n",
      "  r = r_num / r_den\n"
     ]
    },
    {
     "name": "stdout",
     "output_type": "stream",
     "text": [
      "Saved file: /p/scratch/deepacf/kiste/patakchiyousefi1/STATS/JJA_monthly_COR.nc\n",
      "Processing: ME_monthly_SON\n",
      "Saved file: /p/scratch/deepacf/kiste/patakchiyousefi1/STATS/SON_monthly_ME.nc\n",
      "Processing: RMSE_monthly_SON\n",
      "Saved file: /p/scratch/deepacf/kiste/patakchiyousefi1/STATS/SON_monthly_RMSE.nc\n",
      "Processing: COR_monthly_SON\n",
      "Saved file: /p/scratch/deepacf/kiste/patakchiyousefi1/STATS/SON_monthly_COR.nc\n",
      "Processing: ME_daily_DJF\n"
     ]
    },
    {
     "name": "stderr",
     "output_type": "stream",
     "text": [
      "/p/project/deepacf/kiste/patakchiyousefi1/SC_VENV/envs/prc_env/lib/python3.8/site-packages/xskillscore/core/np_deterministic.py:309: RuntimeWarning: invalid value encountered in divide\n",
      "  r = r_num / r_den\n"
     ]
    },
    {
     "name": "stdout",
     "output_type": "stream",
     "text": [
      "Saved file: /p/scratch/deepacf/kiste/patakchiyousefi1/STATS/DJF_daily_ME.nc\n",
      "Processing: RMSE_daily_DJF\n",
      "Saved file: /p/scratch/deepacf/kiste/patakchiyousefi1/STATS/DJF_daily_RMSE.nc\n",
      "Processing: COR_daily_DJF\n"
     ]
    },
    {
     "name": "stderr",
     "output_type": "stream",
     "text": [
      "/p/project/deepacf/kiste/patakchiyousefi1/SC_VENV/envs/prc_env/lib/python3.8/site-packages/xskillscore/core/np_deterministic.py:309: RuntimeWarning: invalid value encountered in divide\n",
      "  r = r_num / r_den\n"
     ]
    },
    {
     "name": "stdout",
     "output_type": "stream",
     "text": [
      "Saved file: /p/scratch/deepacf/kiste/patakchiyousefi1/STATS/DJF_daily_COR.nc\n",
      "Processing: ME_daily_MAM\n",
      "Saved file: /p/scratch/deepacf/kiste/patakchiyousefi1/STATS/MAM_daily_ME.nc\n",
      "Processing: RMSE_daily_MAM\n",
      "Saved file: /p/scratch/deepacf/kiste/patakchiyousefi1/STATS/MAM_daily_RMSE.nc\n",
      "Processing: COR_daily_MAM\n"
     ]
    },
    {
     "name": "stderr",
     "output_type": "stream",
     "text": [
      "/p/project/deepacf/kiste/patakchiyousefi1/SC_VENV/envs/prc_env/lib/python3.8/site-packages/xskillscore/core/np_deterministic.py:309: RuntimeWarning: invalid value encountered in divide\n",
      "  r = r_num / r_den\n"
     ]
    },
    {
     "name": "stdout",
     "output_type": "stream",
     "text": [
      "Saved file: /p/scratch/deepacf/kiste/patakchiyousefi1/STATS/MAM_daily_COR.nc\n",
      "Processing: ME_daily_JJA\n",
      "Saved file: /p/scratch/deepacf/kiste/patakchiyousefi1/STATS/JJA_daily_ME.nc\n",
      "Processing: RMSE_daily_JJA\n",
      "Saved file: /p/scratch/deepacf/kiste/patakchiyousefi1/STATS/JJA_daily_RMSE.nc\n",
      "Processing: COR_daily_JJA\n"
     ]
    },
    {
     "name": "stderr",
     "output_type": "stream",
     "text": [
      "/p/project/deepacf/kiste/patakchiyousefi1/SC_VENV/envs/prc_env/lib/python3.8/site-packages/xskillscore/core/np_deterministic.py:309: RuntimeWarning: invalid value encountered in divide\n",
      "  r = r_num / r_den\n"
     ]
    },
    {
     "name": "stdout",
     "output_type": "stream",
     "text": [
      "Saved file: /p/scratch/deepacf/kiste/patakchiyousefi1/STATS/JJA_daily_COR.nc\n",
      "Processing: ME_daily_SON\n",
      "Saved file: /p/scratch/deepacf/kiste/patakchiyousefi1/STATS/SON_daily_ME.nc\n",
      "Processing: RMSE_daily_SON\n",
      "Saved file: /p/scratch/deepacf/kiste/patakchiyousefi1/STATS/SON_daily_RMSE.nc\n",
      "Processing: COR_daily_SON\n"
     ]
    },
    {
     "name": "stderr",
     "output_type": "stream",
     "text": [
      "/p/project/deepacf/kiste/patakchiyousefi1/SC_VENV/envs/prc_env/lib/python3.8/site-packages/xskillscore/core/np_deterministic.py:309: RuntimeWarning: invalid value encountered in divide\n",
      "  r = r_num / r_den\n"
     ]
    },
    {
     "name": "stdout",
     "output_type": "stream",
     "text": [
      "Saved file: /p/scratch/deepacf/kiste/patakchiyousefi1/STATS/SON_daily_COR.nc\n",
      "Processing: ME_hourly_DJF\n",
      "Saved file: /p/scratch/deepacf/kiste/patakchiyousefi1/STATS/DJF_hourly_ME.nc\n",
      "Processing: RMSE_hourly_DJF\n",
      "Saved file: /p/scratch/deepacf/kiste/patakchiyousefi1/STATS/DJF_hourly_RMSE.nc\n",
      "Processing: COR_hourly_DJF\n"
     ]
    },
    {
     "name": "stderr",
     "output_type": "stream",
     "text": [
      "/p/project/deepacf/kiste/patakchiyousefi1/SC_VENV/envs/prc_env/lib/python3.8/site-packages/xskillscore/core/np_deterministic.py:309: RuntimeWarning: invalid value encountered in divide\n",
      "  r = r_num / r_den\n"
     ]
    },
    {
     "name": "stdout",
     "output_type": "stream",
     "text": [
      "Saved file: /p/scratch/deepacf/kiste/patakchiyousefi1/STATS/DJF_hourly_COR.nc\n",
      "Processing: ME_hourly_MAM\n",
      "Saved file: /p/scratch/deepacf/kiste/patakchiyousefi1/STATS/MAM_hourly_ME.nc\n",
      "Processing: RMSE_hourly_MAM\n",
      "Saved file: /p/scratch/deepacf/kiste/patakchiyousefi1/STATS/MAM_hourly_RMSE.nc\n",
      "Processing: COR_hourly_MAM\n"
     ]
    },
    {
     "name": "stderr",
     "output_type": "stream",
     "text": [
      "/p/project/deepacf/kiste/patakchiyousefi1/SC_VENV/envs/prc_env/lib/python3.8/site-packages/xskillscore/core/np_deterministic.py:309: RuntimeWarning: invalid value encountered in divide\n",
      "  r = r_num / r_den\n"
     ]
    },
    {
     "name": "stdout",
     "output_type": "stream",
     "text": [
      "Saved file: /p/scratch/deepacf/kiste/patakchiyousefi1/STATS/MAM_hourly_COR.nc\n",
      "Processing: ME_hourly_JJA\n",
      "Saved file: /p/scratch/deepacf/kiste/patakchiyousefi1/STATS/JJA_hourly_ME.nc\n",
      "Processing: RMSE_hourly_JJA\n",
      "Saved file: /p/scratch/deepacf/kiste/patakchiyousefi1/STATS/JJA_hourly_RMSE.nc\n",
      "Processing: COR_hourly_JJA\n"
     ]
    },
    {
     "name": "stderr",
     "output_type": "stream",
     "text": [
      "/p/project/deepacf/kiste/patakchiyousefi1/SC_VENV/envs/prc_env/lib/python3.8/site-packages/xskillscore/core/np_deterministic.py:309: RuntimeWarning: invalid value encountered in divide\n",
      "  r = r_num / r_den\n"
     ]
    },
    {
     "name": "stdout",
     "output_type": "stream",
     "text": [
      "Saved file: /p/scratch/deepacf/kiste/patakchiyousefi1/STATS/JJA_hourly_COR.nc\n",
      "Processing: ME_hourly_SON\n",
      "Saved file: /p/scratch/deepacf/kiste/patakchiyousefi1/STATS/SON_hourly_ME.nc\n",
      "Processing: RMSE_hourly_SON\n",
      "Saved file: /p/scratch/deepacf/kiste/patakchiyousefi1/STATS/SON_hourly_RMSE.nc\n",
      "Processing: COR_hourly_SON\n",
      "Saved file: /p/scratch/deepacf/kiste/patakchiyousefi1/STATS/SON_hourly_COR.nc\n"
     ]
    },
    {
     "name": "stderr",
     "output_type": "stream",
     "text": [
      "/p/project/deepacf/kiste/patakchiyousefi1/SC_VENV/envs/prc_env/lib/python3.8/site-packages/xskillscore/core/np_deterministic.py:309: RuntimeWarning: invalid value encountered in divide\n",
      "  r = r_num / r_den\n"
     ]
    }
   ],
   "source": [
    "# Define the error metrics, temporal resolutions, and seasons\n",
    "error_metrics = [\"ME\", \"RMSE\", \"COR\"]\n",
    "temporal_resolutions = [\"monthly\", \"daily\", \"hourly\"]\n",
    "seasons = [\"DJF\", \"MAM\", \"JJA\", \"SON\"]\n",
    "\n",
    "# Load the resampled data\n",
    "HRES_daily = xr.open_dataset(f\"{STATS}HRES_pr_daily.nc\")\n",
    "HSAF_daily = xr.open_dataset(f\"{STATS}HSAF_pr_daily.nc\")\n",
    "HRES_monthly = xr.open_dataset(f\"{STATS}HRES_pr_monthly.nc\")\n",
    "HSAF_monthly = xr.open_dataset(f\"{STATS}HSAF_pr_monthly.nc\")\n",
    "\n",
    "# Iterate through the combinations of error metrics, temporal resolutions, and seasons\n",
    "for temporal_resolution in temporal_resolutions:\n",
    "        if temporal_resolution == \"daily\":\n",
    "            HRES_resampled = HRES_daily\n",
    "            HSAF_resampled = HSAF_daily\n",
    "            \n",
    "        elif temporal_resolution == \"monthly\":\n",
    "            HRES_resampled = HRES_monthly\n",
    "            HSAF_resampled = HSAF_monthly\n",
    "        else:\n",
    "            HRES_resampled = HRES\n",
    "            HSAF_resampled = HSAF\n",
    "            \n",
    "        for season in seasons:\n",
    "            # Select the data for the specific season\n",
    "            HRES_season = HRES_resampled.sel(time=HRES_resampled[\"time\"].dt.season == season)\n",
    "            HSAF_season = HSAF_resampled.sel(time=HSAF_resampled[\"time\"].dt.season == season)\n",
    "\n",
    "            for error_metric in error_metrics:\n",
    "                print(f\"Processing: {error_metric}_{temporal_resolution}_{season}\")\n",
    "\n",
    "                # Calculate the error metric\n",
    "                if error_metric == \"COR\":\n",
    "                    error = xs.pearson_r(HRES_season[variable], HSAF_season[variable], dim=\"time\", skipna=True)\n",
    "                elif error_metric == \"ME\":\n",
    "                    error = HRES_season[variable] - HSAF_season[variable]\n",
    "                    error = error.mean(dim=\"time\", skipna=True)\n",
    "                elif error_metric == \"RMSE\":\n",
    "                    error = np.sqrt(((HRES_season[variable] - HSAF_season[variable]) ** 2).mean(dim=\"time\", skipna=True))\n",
    "\n",
    "                # Save the error as a NetCDF file\n",
    "                file_name = f\"{STATS}{season}_{temporal_resolution}_{error_metric}.nc\"\n",
    "                error.to_netcdf(file_name)\n",
    "\n",
    "                print(f\"Saved file: {file_name}\")"
   ]
  },
  {
   "cell_type": "markdown",
   "id": "ab33cd1b-a5a7-4633-aa21-c856fa410c90",
   "metadata": {},
   "source": [
    "#### 3.2 For HRES_C"
   ]
  },
  {
   "cell_type": "code",
   "execution_count": 82,
   "id": "bad0e0fd-f2ca-4417-a030-7a96ec41dddb",
   "metadata": {},
   "outputs": [
    {
     "name": "stderr",
     "output_type": "stream",
     "text": [
      "/p/project/deepacf/kiste/patakchiyousefi1/SC_VENV/envs/prc_env/lib/python3.8/site-packages/xskillscore/core/np_deterministic.py:309: RuntimeWarning: invalid value encountered in divide\n",
      "  r = r_num / r_den\n"
     ]
    },
    {
     "name": "stdout",
     "output_type": "stream",
     "text": [
      "Processing: ME_monthly_DJF\n",
      "Saved file: /p/scratch/deepacf/kiste/patakchiyousefi1/STATS/DJF_monthly_ME_C.nc\n",
      "Processing: RMSE_monthly_DJF\n",
      "Saved file: /p/scratch/deepacf/kiste/patakchiyousefi1/STATS/DJF_monthly_RMSE_C.nc\n",
      "Processing: COR_monthly_DJF\n",
      "Saved file: /p/scratch/deepacf/kiste/patakchiyousefi1/STATS/DJF_monthly_COR_C.nc\n",
      "Processing: ME_monthly_MAM\n",
      "Saved file: /p/scratch/deepacf/kiste/patakchiyousefi1/STATS/MAM_monthly_ME_C.nc\n",
      "Processing: RMSE_monthly_MAM\n",
      "Saved file: /p/scratch/deepacf/kiste/patakchiyousefi1/STATS/MAM_monthly_RMSE_C.nc\n",
      "Processing: COR_monthly_MAM\n",
      "Saved file: /p/scratch/deepacf/kiste/patakchiyousefi1/STATS/MAM_monthly_COR_C.nc\n",
      "Processing: ME_monthly_JJA\n",
      "Saved file: /p/scratch/deepacf/kiste/patakchiyousefi1/STATS/JJA_monthly_ME_C.nc\n",
      "Processing: RMSE_monthly_JJA\n",
      "Saved file: /p/scratch/deepacf/kiste/patakchiyousefi1/STATS/JJA_monthly_RMSE_C.nc\n",
      "Processing: COR_monthly_JJA\n",
      "Saved file: /p/scratch/deepacf/kiste/patakchiyousefi1/STATS/JJA_monthly_COR_C.nc\n",
      "Processing: ME_monthly_SON\n"
     ]
    },
    {
     "name": "stderr",
     "output_type": "stream",
     "text": [
      "/p/project/deepacf/kiste/patakchiyousefi1/SC_VENV/envs/prc_env/lib/python3.8/site-packages/xskillscore/core/np_deterministic.py:309: RuntimeWarning: invalid value encountered in divide\n",
      "  r = r_num / r_den\n",
      "/p/project/deepacf/kiste/patakchiyousefi1/SC_VENV/envs/prc_env/lib/python3.8/site-packages/xskillscore/core/np_deterministic.py:309: RuntimeWarning: invalid value encountered in divide\n",
      "  r = r_num / r_den\n",
      "/p/project/deepacf/kiste/patakchiyousefi1/SC_VENV/envs/prc_env/lib/python3.8/site-packages/xskillscore/core/np_deterministic.py:309: RuntimeWarning: invalid value encountered in divide\n",
      "  r = r_num / r_den\n"
     ]
    },
    {
     "name": "stdout",
     "output_type": "stream",
     "text": [
      "Saved file: /p/scratch/deepacf/kiste/patakchiyousefi1/STATS/SON_monthly_ME_C.nc\n",
      "Processing: RMSE_monthly_SON\n",
      "Saved file: /p/scratch/deepacf/kiste/patakchiyousefi1/STATS/SON_monthly_RMSE_C.nc\n",
      "Processing: COR_monthly_SON\n",
      "Saved file: /p/scratch/deepacf/kiste/patakchiyousefi1/STATS/SON_monthly_COR_C.nc\n",
      "Processing: ME_daily_DJF\n",
      "Saved file: /p/scratch/deepacf/kiste/patakchiyousefi1/STATS/DJF_daily_ME_C.nc\n",
      "Processing: RMSE_daily_DJF\n",
      "Saved file: /p/scratch/deepacf/kiste/patakchiyousefi1/STATS/DJF_daily_RMSE_C.nc\n",
      "Processing: COR_daily_DJF\n"
     ]
    },
    {
     "name": "stderr",
     "output_type": "stream",
     "text": [
      "/p/project/deepacf/kiste/patakchiyousefi1/SC_VENV/envs/prc_env/lib/python3.8/site-packages/xskillscore/core/np_deterministic.py:309: RuntimeWarning: invalid value encountered in divide\n",
      "  r = r_num / r_den\n"
     ]
    },
    {
     "name": "stdout",
     "output_type": "stream",
     "text": [
      "Saved file: /p/scratch/deepacf/kiste/patakchiyousefi1/STATS/DJF_daily_COR_C.nc\n",
      "Processing: ME_daily_MAM\n",
      "Saved file: /p/scratch/deepacf/kiste/patakchiyousefi1/STATS/MAM_daily_ME_C.nc\n",
      "Processing: RMSE_daily_MAM\n",
      "Saved file: /p/scratch/deepacf/kiste/patakchiyousefi1/STATS/MAM_daily_RMSE_C.nc\n",
      "Processing: COR_daily_MAM\n"
     ]
    },
    {
     "name": "stderr",
     "output_type": "stream",
     "text": [
      "/p/project/deepacf/kiste/patakchiyousefi1/SC_VENV/envs/prc_env/lib/python3.8/site-packages/xskillscore/core/np_deterministic.py:309: RuntimeWarning: invalid value encountered in divide\n",
      "  r = r_num / r_den\n"
     ]
    },
    {
     "name": "stdout",
     "output_type": "stream",
     "text": [
      "Saved file: /p/scratch/deepacf/kiste/patakchiyousefi1/STATS/MAM_daily_COR_C.nc\n",
      "Processing: ME_daily_JJA\n",
      "Saved file: /p/scratch/deepacf/kiste/patakchiyousefi1/STATS/JJA_daily_ME_C.nc\n",
      "Processing: RMSE_daily_JJA\n",
      "Saved file: /p/scratch/deepacf/kiste/patakchiyousefi1/STATS/JJA_daily_RMSE_C.nc\n",
      "Processing: COR_daily_JJA\n"
     ]
    },
    {
     "name": "stderr",
     "output_type": "stream",
     "text": [
      "/p/project/deepacf/kiste/patakchiyousefi1/SC_VENV/envs/prc_env/lib/python3.8/site-packages/xskillscore/core/np_deterministic.py:309: RuntimeWarning: invalid value encountered in divide\n",
      "  r = r_num / r_den\n"
     ]
    },
    {
     "name": "stdout",
     "output_type": "stream",
     "text": [
      "Saved file: /p/scratch/deepacf/kiste/patakchiyousefi1/STATS/JJA_daily_COR_C.nc\n",
      "Processing: ME_daily_SON\n",
      "Saved file: /p/scratch/deepacf/kiste/patakchiyousefi1/STATS/SON_daily_ME_C.nc\n",
      "Processing: RMSE_daily_SON\n",
      "Saved file: /p/scratch/deepacf/kiste/patakchiyousefi1/STATS/SON_daily_RMSE_C.nc\n",
      "Processing: COR_daily_SON\n"
     ]
    },
    {
     "name": "stderr",
     "output_type": "stream",
     "text": [
      "/p/project/deepacf/kiste/patakchiyousefi1/SC_VENV/envs/prc_env/lib/python3.8/site-packages/xskillscore/core/np_deterministic.py:309: RuntimeWarning: invalid value encountered in divide\n",
      "  r = r_num / r_den\n"
     ]
    },
    {
     "name": "stdout",
     "output_type": "stream",
     "text": [
      "Saved file: /p/scratch/deepacf/kiste/patakchiyousefi1/STATS/SON_daily_COR_C.nc\n",
      "Processing: ME_hourly_DJF\n",
      "Saved file: /p/scratch/deepacf/kiste/patakchiyousefi1/STATS/DJF_hourly_ME_C.nc\n",
      "Processing: RMSE_hourly_DJF\n",
      "Saved file: /p/scratch/deepacf/kiste/patakchiyousefi1/STATS/DJF_hourly_RMSE_C.nc\n",
      "Processing: COR_hourly_DJF\n"
     ]
    },
    {
     "name": "stderr",
     "output_type": "stream",
     "text": [
      "/p/project/deepacf/kiste/patakchiyousefi1/SC_VENV/envs/prc_env/lib/python3.8/site-packages/xskillscore/core/np_deterministic.py:309: RuntimeWarning: invalid value encountered in divide\n",
      "  r = r_num / r_den\n"
     ]
    },
    {
     "name": "stdout",
     "output_type": "stream",
     "text": [
      "Saved file: /p/scratch/deepacf/kiste/patakchiyousefi1/STATS/DJF_hourly_COR_C.nc\n",
      "Processing: ME_hourly_MAM\n",
      "Saved file: /p/scratch/deepacf/kiste/patakchiyousefi1/STATS/MAM_hourly_ME_C.nc\n",
      "Processing: RMSE_hourly_MAM\n",
      "Saved file: /p/scratch/deepacf/kiste/patakchiyousefi1/STATS/MAM_hourly_RMSE_C.nc\n",
      "Processing: COR_hourly_MAM\n"
     ]
    },
    {
     "name": "stderr",
     "output_type": "stream",
     "text": [
      "/p/project/deepacf/kiste/patakchiyousefi1/SC_VENV/envs/prc_env/lib/python3.8/site-packages/xskillscore/core/np_deterministic.py:309: RuntimeWarning: invalid value encountered in divide\n",
      "  r = r_num / r_den\n"
     ]
    },
    {
     "name": "stdout",
     "output_type": "stream",
     "text": [
      "Saved file: /p/scratch/deepacf/kiste/patakchiyousefi1/STATS/MAM_hourly_COR_C.nc\n",
      "Processing: ME_hourly_JJA\n",
      "Saved file: /p/scratch/deepacf/kiste/patakchiyousefi1/STATS/JJA_hourly_ME_C.nc\n",
      "Processing: RMSE_hourly_JJA\n",
      "Saved file: /p/scratch/deepacf/kiste/patakchiyousefi1/STATS/JJA_hourly_RMSE_C.nc\n",
      "Processing: COR_hourly_JJA\n"
     ]
    },
    {
     "name": "stderr",
     "output_type": "stream",
     "text": [
      "/p/project/deepacf/kiste/patakchiyousefi1/SC_VENV/envs/prc_env/lib/python3.8/site-packages/xskillscore/core/np_deterministic.py:309: RuntimeWarning: invalid value encountered in divide\n",
      "  r = r_num / r_den\n"
     ]
    },
    {
     "name": "stdout",
     "output_type": "stream",
     "text": [
      "Saved file: /p/scratch/deepacf/kiste/patakchiyousefi1/STATS/JJA_hourly_COR_C.nc\n",
      "Processing: ME_hourly_SON\n",
      "Saved file: /p/scratch/deepacf/kiste/patakchiyousefi1/STATS/SON_hourly_ME_C.nc\n",
      "Processing: RMSE_hourly_SON\n",
      "Saved file: /p/scratch/deepacf/kiste/patakchiyousefi1/STATS/SON_hourly_RMSE_C.nc\n",
      "Processing: COR_hourly_SON\n",
      "Saved file: /p/scratch/deepacf/kiste/patakchiyousefi1/STATS/SON_hourly_COR_C.nc\n"
     ]
    },
    {
     "name": "stderr",
     "output_type": "stream",
     "text": [
      "/p/project/deepacf/kiste/patakchiyousefi1/SC_VENV/envs/prc_env/lib/python3.8/site-packages/xskillscore/core/np_deterministic.py:309: RuntimeWarning: invalid value encountered in divide\n",
      "  r = r_num / r_den\n"
     ]
    }
   ],
   "source": [
    "# Define the error metrics, temporal resolutions, and seasons\n",
    "error_metrics = [\"ME\", \"RMSE\", \"COR\"]\n",
    "temporal_resolutions = [\"monthly\", \"daily\", \"hourly\"]\n",
    "seasons = [\"DJF\", \"MAM\", \"JJA\", \"SON\"]\n",
    "\n",
    "# Load the resampled data\n",
    "HRES_C_daily = xr.open_dataset(f\"{STATS}HRES_C_pr_daily.nc\")\n",
    "HSAF_daily = xr.open_dataset(f\"{STATS}HSAF_pr_daily.nc\")\n",
    "HRES_C_monthly = xr.open_dataset(f\"{STATS}HRES_C_pr_monthly.nc\")\n",
    "HSAF_monthly = xr.open_dataset(f\"{STATS}HSAF_pr_monthly.nc\")\n",
    "\n",
    "# Iterate through the combinations of error metrics, temporal resolutions, and seasons\n",
    "for temporal_resolution in temporal_resolutions:\n",
    "    if temporal_resolution == \"daily\":\n",
    "        HRES_C_resampled = HRES_C_daily\n",
    "        HSAF_resampled = HSAF_daily\n",
    "    elif temporal_resolution == \"monthly\":\n",
    "        HRES_C_resampled = HRES_C_monthly\n",
    "        HSAF_resampled = HSAF_monthly\n",
    "    else:\n",
    "        HRES_C_resampled = HRES_C\n",
    "        HSAF_resampled = HSAF\n",
    "\n",
    "    for season in seasons:\n",
    "        # Select the data for the specific season\n",
    "        HRES_C_season = HRES_C_resampled.sel(time=HRES_C_resampled[\"time\"].dt.season == season)\n",
    "        HSAF_season = HSAF_resampled.sel(time=HSAF_resampled[\"time\"].dt.season == season)\n",
    "\n",
    "        for error_metric in error_metrics:\n",
    "            print(f\"Processing: {error_metric}_{temporal_resolution}_{season}\")\n",
    "\n",
    "            # Calculate the error metric\n",
    "            if error_metric == \"COR\":\n",
    "                error = xs.pearson_r(HRES_C_season[variable], HSAF_season[variable], dim=\"time\", skipna=True)\n",
    "            elif error_metric == \"ME\":\n",
    "                error = HRES_C_season[variable] - HSAF_season[variable]\n",
    "                error = error.mean(dim=\"time\", skipna=True)\n",
    "            elif error_metric == \"RMSE\":\n",
    "                error = np.sqrt(((HRES_C_season[variable] - HSAF_season[variable]) ** 2).mean(dim=\"time\", skipna=True))\n",
    "\n",
    "            # Save the error as a NetCDF file\n",
    "            file_name = f\"{STATS}{season}_{temporal_resolution}_{error_metric}_C.nc\"\n",
    "            error.to_netcdf(file_name)\n",
    "\n",
    "            print(f\"Saved file: {file_name}\")"
   ]
  },
  {
   "cell_type": "markdown",
   "id": "10676a43-da86-4282-bd3f-baad1b49f5f8",
   "metadata": {
    "tags": []
   },
   "source": [
    "### 4. HRES-HSAF Correlations with time shifts"
   ]
  },
  {
   "cell_type": "markdown",
   "id": "879b0ca8-fe6c-49f6-b382-d1dfc1a6be1a",
   "metadata": {
    "tags": []
   },
   "source": [
    "#### 4.1. Daily"
   ]
  },
  {
   "cell_type": "code",
   "execution_count": null,
   "id": "5355bd40-7eb8-435b-b144-3c162b946380",
   "metadata": {},
   "outputs": [],
   "source": [
    "from py_env_hpc import *\n",
    "import numpy as np\n",
    "import xarray as xr\n",
    "import xskillscore as xs\n",
    "\n",
    "model_data = \"HRES\"\n",
    "reference_data = \"HSAF\"\n",
    "date_start = \"2020-07-01T13\"\n",
    "date_end = \"2021-07-01T12\"\n",
    "variable = \"pr\"\n",
    "\n",
    "# Open the datasets\n",
    "HRES = xr.open_dataset(f\"{ATMOS_DATA}/{model_data}_{variable}.nc\").sel(time=slice(date_start, date_end))\n",
    "HSAF = xr.open_dataset(f\"{ATMOS_DATA}/{reference_data}_{variable}.nc\").sel(time=slice(date_start, date_end))\n",
    "\n",
    "# Define the time shifts\n",
    "time_shifts = range(-15, 14+1)  # -15 to +14\n",
    "\n",
    "# Calculate and save the correlations as npy matrices\n",
    "for shift in time_shifts:\n",
    "    # Shift HRES\n",
    "    HRES_shifted = HRES.shift(time=shift)\n",
    "    HRES_shifted_daily = HRES_shifted.resample(time=\"D\").sum()\n",
    "    \n",
    "    # Resample HSAF into daily data\n",
    "    HSAF_daily = HSAF.resample(time=\"D\").sum()\n",
    "    \n",
    "    # Calculate the correlation using xskillscore\n",
    "    corr = xs.pearson_r(HRES_shifted_daily.pr, HSAF_daily.pr, dim=\"time\", skipna=True)\n",
    "    \n",
    "    # Save the correlation matrix as npy\n",
    "    np.save(f\"{STATS}/DAILY_HSAF_HRES_COR_{date_start}_{date_end}_shift={shift}.npy\", corr)\n"
   ]
  },
  {
   "cell_type": "markdown",
   "id": "7c044659-0103-40ad-bd6f-5eda181c9d1a",
   "metadata": {
    "tags": []
   },
   "source": [
    "#### 4.2. Monthly"
   ]
  },
  {
   "cell_type": "code",
   "execution_count": null,
   "id": "fa18af89-b7b9-4521-97b7-e3fdae30a45f",
   "metadata": {},
   "outputs": [],
   "source": [
    "from py_env_hpc import *\n",
    "import numpy as np\n",
    "import xarray as xr\n",
    "import xskillscore as xs\n",
    "\n",
    "model_data = \"HRES\"\n",
    "reference_data = \"HSAF\"\n",
    "date_start = \"2020-07-01T13\"\n",
    "date_end = \"2021-07-01T12\"\n",
    "variable = \"pr\"\n",
    "\n",
    "# Open the datasets\n",
    "HRES = xr.open_dataset(f\"{ATMOS_DATA}/{model_data}_{variable}.nc\").sel(time=slice(date_start, date_end))\n",
    "HSAF = xr.open_dataset(f\"{ATMOS_DATA}/{reference_data}_{variable}.nc\").sel(time=slice(date_start, date_end))\n",
    "\n",
    "# Define the time shifts\n",
    "time_shifts = range(-15, 14+1)  # -15 to +14\n",
    "\n",
    "# Calculate and save the correlations as npy matrices\n",
    "for shift in time_shifts:\n",
    "    # Shift HRES\n",
    "    HRES_shifted = HRES.shift(time=shift)\n",
    "    HRES_shifted_monthly = HRES_shifted.resample(time=\"M\").sum()\n",
    "    \n",
    "    # Resample HSAF into daily data\n",
    "    HSAF_daily = HSAF.resample(time=\"M\").sum()\n",
    "    \n",
    "    # Calculate the correlation using xskillscore\n",
    "    corr = xs.pearson_r(HRES_shifted_monthly.pr, HSAF_daily.pr, dim=\"time\", skipna=True)\n",
    "    \n",
    "    # Save the correlation matrix as npy\n",
    "    np.save(f\"{STATS}/MONTHLY_HSAF_HRES_COR_{date_start}_{date_end}_shift={shift}.npy\", corr)\n"
   ]
  },
  {
   "cell_type": "markdown",
   "id": "ae91c50e-81e0-4561-9234-c4f71d8195e9",
   "metadata": {
    "tags": []
   },
   "source": [
    "### 5. HSAF Data Availability (DA) and Data Quality (DQ)"
   ]
  },
  {
   "cell_type": "markdown",
   "id": "743d2eff-ec19-40ef-8b87-9d460cd71f66",
   "metadata": {
    "tags": []
   },
   "source": [
    "#### 5.1. Seasonal DA and DQ"
   ]
  },
  {
   "cell_type": "code",
   "execution_count": null,
   "id": "7980f7fe-6ef3-45ae-ad23-6e71299c8fee",
   "metadata": {},
   "outputs": [],
   "source": [
    "import xarray as xr\n",
    "import numpy as np\n",
    "\n",
    "# Load the masks as xarray datasets\n",
    "mask_hourly = xr.open_dataset(f\"{STATS}nona_mask_pr_hourly.nc\")\n",
    "\n",
    "# Load the NetCDF file\n",
    "file_path = ATMOS_DATA + \"/HSAF_pr.nc\"\n",
    "data = xr.open_dataset(file_path)\n",
    "\n",
    "# Extract the qind variable\n",
    "qind = data[\"qind\"]\n",
    "\n",
    "# Define the seasons\n",
    "seasons = [\"DJF\", \"MAM\", \"JJA\", \"SON\"]\n",
    "\n",
    "# Iterate over the seasons\n",
    "for season in seasons:\n",
    "    # Select the data for the specific season\n",
    "    mask_season = mask_hourly.sel(time=mask_hourly[\"time\"].dt.season == season)\n",
    "    qind_season = qind.sel(time=qind[\"time\"].dt.season == season)\n",
    "\n",
    "    # Calculate data availability for the season\n",
    "    percent_available_season = (mask_season.sum(\"time\") / mask_season.time.size) * 100\n",
    "\n",
    "    # Calculate the average data quality index for the season\n",
    "    avg_qind_season = qind_season.mean(dim=\"time\", skipna=True)\n",
    "\n",
    "    # Save data availability and data quality to NetCDF files\n",
    "    percent_available_season.to_netcdf(f\"{STATS}{season}_data_availability.nc\")\n",
    "    avg_qind_season.to_netcdf(f\"{STATS}{season}_data_quality.nc\")"
   ]
  },
  {
   "cell_type": "markdown",
   "id": "a6b11aa0-9bea-44bd-8f52-dbf53280e05d",
   "metadata": {},
   "source": [
    "#### 5.2. DA and DQ over 2020, 2021, 2022, 2023"
   ]
  },
  {
   "cell_type": "code",
   "execution_count": null,
   "id": "65b42893-b04e-419e-a999-229b7cab73c3",
   "metadata": {},
   "outputs": [],
   "source": [
    "import xarray as xr\n",
    "import numpy as np\n",
    "\n",
    "# Load the masks as xarray datasets\n",
    "mask_hourly = xr.open_dataset(f\"{STATS}nona_mask_pr_hourly.nc\")\n",
    "\n",
    "# Load the NetCDF file\n",
    "file_path = ATMOS_DATA + \"/HSAF_pr.nc\"\n",
    "data = xr.open_dataset(file_path)\n",
    "\n",
    "# Extract the qind variable\n",
    "qind = data[\"qind\"]\n",
    "\n",
    "# Define the years\n",
    "years = [2020, 2021, 2022, 2023]\n",
    "\n",
    "# Iterate over the years\n",
    "for year in years:\n",
    "    # Select the data for the specific year\n",
    "    mask_year = mask_hourly.sel(time=mask_hourly[\"time\"].dt.year == year)\n",
    "    qind_year = qind.sel(time=qind[\"time\"].dt.year == year)\n",
    "\n",
    "    # Calculate data availability for the year\n",
    "    percent_available_year = (mask_year.sum(\"time\") / mask_year.time.size) * 100\n",
    "\n",
    "    # Calculate the average data quality index for the year\n",
    "    avg_qind_year = qind_year.mean(dim=\"time\", skipna=True)\n",
    "\n",
    "    # Save data availability and data quality to NetCDF files\n",
    "    percent_available_year.to_netcdf(f\"{STATS}{year}_data_availability.nc\")\n",
    "    avg_qind_year.to_netcdf(f\"{STATS}{year}_data_quality.nc\")"
   ]
  }
 ],
 "metadata": {
  "kernelspec": {
   "display_name": "prc_env",
   "language": "python",
   "name": "conda_prc_env"
  },
  "language_info": {
   "codemirror_mode": {
    "name": "ipython",
    "version": 3
   },
   "file_extension": ".py",
   "mimetype": "text/x-python",
   "name": "python",
   "nbconvert_exporter": "python",
   "pygments_lexer": "ipython3",
   "version": "3.8.15"
  }
 },
 "nbformat": 4,
 "nbformat_minor": 5
}
