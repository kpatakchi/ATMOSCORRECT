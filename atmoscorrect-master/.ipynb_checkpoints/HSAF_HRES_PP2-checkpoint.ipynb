{
 "cells": [
  {
   "cell_type": "markdown",
   "id": "7bd0bf9b-9fb6-4c20-bb03-da2c1c72bb0c",
   "metadata": {
    "tags": []
   },
   "source": [
    "## Preprocess HSAF-HRES Data (part 2)\n",
    "\n",
    "This script is used to \n",
    "\n",
    "- Fill in the gap hours in `HSAF_pr.nc`\n",
    "- Allign `HSAF_pr.nc` with `HRES_pr.nc`\n",
    "- Fix HSAF-HRES coordinates\n",
    "- Remove negative values in both hres and hsaf"
   ]
  },
  {
   "cell_type": "code",
   "execution_count": 1,
   "id": "dd194c41-cd50-46cc-aa76-88a935d56705",
   "metadata": {},
   "outputs": [
    {
     "name": "stdout",
     "output_type": "stream",
     "text": [
      "Step 1: Fill data gaps in HSAF dataset\n",
      "Data gaps are filled in.\n",
      "Step 2: Align HSAF and HRES datasets\n",
      "Datasets aligned\n",
      "Step 3: Convert lat/lon to integers\n",
      "Latitude and longitude converted to integers.\n"
     ]
    }
   ],
   "source": [
    "import xarray as xr\n",
    "import pandas as pd\n",
    "import numpy as np\n",
    "from py_env_hpc import *\n",
    "\n",
    "# Step 1: Fill data gaps in HSAF dataset\n",
    "print (\"Step 1: Fill data gaps in HSAF dataset\")\n",
    "hsaf_path = ATMOS_DATA + \"/HSAF_pr.nc\"\n",
    "variable = \"pr\"\n",
    "\n",
    "hsaf_dataset = xr.open_dataset(hsaf_path)\n",
    "hsaf_dataset_time_index = pd.to_datetime(hsaf_dataset.time.values)\n",
    "expected_time_range = pd.date_range(start=str(hsaf_dataset_time_index[0]), end=str(hsaf_dataset_time_index[-1]), freq='H')\n",
    "missing_hours = expected_time_range[~expected_time_range.isin(hsaf_dataset_time_index)]\n",
    "hsaf_dataset_filled = hsaf_dataset.reindex(time=expected_time_range)\n",
    "hsaf_dataset_filled[variable] = hsaf_dataset_filled[variable].where(hsaf_dataset_filled[variable].notnull(), np.nan)\n",
    "HSAF=hsaf_dataset_filled\n",
    "print(\"Data gaps are filled in.\")\n",
    "\n",
    "# Step 2: Align and save HSAF and HRES datasets\n",
    "print (\"Step 2: Align HSAF and HRES datasets\")\n",
    "\n",
    "date_start = \"2020-07-01T13\"\n",
    "date_end = \"2023-04-26T23\"\n",
    "variable = \"pr\"\n",
    "\n",
    "hres_path = ATMOS_DATA + \"/HRES_pr.nc\"\n",
    "\n",
    "HRES = xr.open_dataset(hres_path).sel(time=slice(date_start, date_end))\n",
    "HSAF = HSAF.sel(time=slice(date_start, date_end))\n",
    "\n",
    "HRES, HSAF = xr.align(HRES, HSAF, join=\"override\")\n",
    "\n",
    "encoding = {'qind': {'_FillValue': False, 'missing_value': False}}  # Specify appropriate values for _FillValue and missing_value\n",
    "print(\"Datasets aligned\")\n",
    "\n",
    "# Step 3: Convert lat/lon to integers\n",
    "print(\"Step 3: Convert lat/lon to integers\")\n",
    "HRES = HRES.assign_coords(latitude=HRES.latitude.round(2), longitude=HRES.longitude.round(2))\n",
    "HSAF = HSAF.assign_coords(latitude=HSAF.latitude.round(2), longitude=HSAF.longitude.round(2))\n",
    "\n",
    "HRES = HRES.assign_coords(longitude=np.where(HRES.longitude == -0., 0, HRES.longitude))\n",
    "HSAF = HSAF.assign_coords(longitude=np.where(HSAF.longitude == -0., 0, HSAF.longitude))\n",
    "print(\"Latitude and longitude converted to integers.\")\n",
    "\n",
    "# Step 4: Replace negative values with zero\n",
    "print(\"Step 4: Replace negative values with zero\")\n",
    "HRES['pr'] = xr.where(HRES['pr'] < 0, 0, HRES['pr'])\n",
    "HSAF['pr'] = xr.where(HSAF['pr'] < 0, 0, HSAF['pr'])\n",
    "\n",
    "HSAF.to_netcdf(hsaf_path+\".pp2\", mode='w', encoding=encoding)\n",
    "HRES.to_netcdf(hres_path+\".pp2\", mode='w')"
   ]
  }
 ],
 "metadata": {
  "kernelspec": {
   "display_name": "prc_env",
   "language": "python",
   "name": "conda_prc_env"
  },
  "language_info": {
   "codemirror_mode": {
    "name": "ipython",
    "version": 3
   },
   "file_extension": ".py",
   "mimetype": "text/x-python",
   "name": "python",
   "nbconvert_exporter": "python",
   "pygments_lexer": "ipython3",
   "version": "3.8.15"
  }
 },
 "nbformat": 4,
 "nbformat_minor": 5
}
