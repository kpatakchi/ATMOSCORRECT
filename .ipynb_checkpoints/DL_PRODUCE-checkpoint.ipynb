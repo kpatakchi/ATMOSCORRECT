{
 "cells": [
  {
   "cell_type": "code",
   "execution_count": null,
   "id": "a0f2dee8-a1ea-4a82-95e7-6e2792cf399e",
   "metadata": {},
   "outputs": [],
   "source": [
    "from py_env_train import *\n",
    "\n",
    "# Define the data specifications:\n",
    "model_data = [\"HRES\"]\n",
    "reference_data = [\"HSAF\"]\n",
    "task_name = \"spatiotemporal\"\n",
    "mm = \"MM\"  # or DM\n",
    "date_start=\"2020-07-01T13\"\n",
    "date_end=\"2023-04-26T23\"\n",
    "variable = \"pr\"\n",
    "mask_type = \"no_na\"\n",
    "laginensemble = False\n",
    "\n",
    "# Define the following for network configs:\n",
    "loss=\"mse\"\n",
    "Filters=32\n",
    "LR=0.1\n",
    "min_LR=0.0001*LR\n",
    "BS=1\n",
    "lr_patience=2\n",
    "patience=8\n",
    "lr_factor=0.5\n",
    "epochs=64\n",
    "val_split=0.5\n",
    "n_channels=7\n",
    "xpixels=128\n",
    "ypixels=256\n",
    "\n",
    "######################################################################################################################################################\n",
    "\n",
    "filename = Func_Train.data_unique_name_generator(model_data, reference_data, task_name, mm, date_start, date_end, variable, mask_type, laginensemble)\n",
    "data_unique_name=filename[:-4]\n",
    "training_unique_name = Func_Train.generate_training_unique_name(loss, Filters, LR, min_LR, lr_factor, lr_patience, BS, patience, val_split, epochs)\n",
    "print(data_unique_name, training_unique_name)\n",
    "\n",
    "# Create the production data (if doesn't exist)\n",
    "Func_Train.prepare_produce(PPROJECT_DIR, PRODUCE_FILES, ATMOS_DATA, filename, model_data, reference_data, task_name, mm, date_start, date_end, variable, mask_type, laginensemble)\n",
    "\n",
    "# load the production data\n",
    "print(\"Loading production data...\")\n",
    "produce_files=np.load(PRODUCE_FILES+\"/\"+\"produce_for_\"+filename)\n",
    "produce_x=produce_files[\"canvas_x\"]\n",
    "\n",
    "# load the model and weights\n",
    "model = Func_Train.UNET(xpixels, ypixels, n_channels, Filters)\n",
    "model_path = PSCRATCH_DIR + \"/HPT/\" + training_unique_name + \".h5\"\n",
    "model.load_weights(model_path)\n",
    "\n",
    "# produce \n",
    "Y_PRED = model.predict(produce_x, verbose=1)\n",
    "Y_PRED=Y_PRED[..., 0]\n",
    "Func_Train.de_prepare_produce(Y_PRED, PREDICT_FILES, ATMOS_DATA, filename, \n",
    "                              model_data, date_start, date_end, variable, \n",
    "                              training_unique_name, onedelay=True)"
   ]
  }
 ],
 "metadata": {
  "kernelspec": {
   "display_name": "PyDeepLearning-2023.5",
   "language": "python",
   "name": "pydeeplearning"
  },
  "language_info": {
   "codemirror_mode": {
    "name": "ipython",
    "version": 3
   },
   "file_extension": ".py",
   "mimetype": "text/x-python",
   "name": "python",
   "nbconvert_exporter": "python",
   "pygments_lexer": "ipython3",
   "version": "3.10.4"
  }
 },
 "nbformat": 4,
 "nbformat_minor": 5
}
