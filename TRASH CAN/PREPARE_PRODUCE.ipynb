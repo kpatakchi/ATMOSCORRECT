{
 "cells": [
  {
   "cell_type": "markdown",
   "id": "1404b983-2d06-4560-a86b-5570d0169ea0",
   "metadata": {
    "extensions": {
     "jupyter_dashboards": {
      "activeView": "grid_default",
      "views": {
       "grid_default": {
        "col": null,
        "height": 2,
        "hidden": true,
        "locked": true,
        "row": null,
        "width": 2
       }
      }
     }
    },
    "tags": []
   },
   "source": [
    "## Prepare the model-based data for production:\n",
    "\n",
    "Scripts for \n",
    "- Reading the datasets (model data)\n",
    "- Making perfect square/rectangular shaped canvas for UNet\n",
    "- ID (data_unique_name) the production data and save it\n",
    "\n",
    "Output:\n",
    "- canvas_x\n",
    "\n",
    "What needs to be defined?\n",
    "- Model data TSMP or HRES\n",
    "- task_name (model-only, model-lag, temporal, spatiotemporal, spatial)"
   ]
  },
  {
   "cell_type": "code",
   "execution_count": 1,
   "id": "7ab2222f-cad0-4047-b807-733d41193fbc",
   "metadata": {
    "extensions": {
     "jupyter_dashboards": {
      "activeView": "grid_default",
      "views": {
       "grid_default": {
        "col": null,
        "height": 2,
        "hidden": true,
        "locked": true,
        "row": null,
        "width": 2
       }
      }
     }
    },
    "tags": []
   },
   "outputs": [
    {
     "name": "stdout",
     "output_type": "stream",
     "text": [
      "produce_data_hourly.pr.['HRES'].['HSAF'].MM.6..spatiotemporal.128.256.2020-07-01T13.2021-07-01T12.no_na.npz\n",
      "Opening datasets...\n",
      "Defining X_Produce ...\n",
      "Data generated\n"
     ]
    }
   ],
   "source": [
    "from py_env_hpc import *\n",
    "\n",
    "# Define the data specifications:\n",
    "model_data = [\"HRES\"]\n",
    "reference_data = [\"HSAF\"]\n",
    "task_name = \"spatiotemporal\"\n",
    "mm = \"MM\"  # or DM\n",
    "date_start=\"2020-07-01T13\"\n",
    "date_end=\"2021-07-01T12\"\n",
    "variable = \"pr\"\n",
    "mask_type = \"no_na\"\n",
    "laginensemble = False\n",
    "\n",
    "filename = Func.data_unique_name_generator_produce(model_data, reference_data, task_name, mm, date_start, date_end, variable, mask_type, laginensemble)\n",
    "print(filename)\n",
    "\n",
    "Func.prepare_produce(PPROJECT_DIR, PRODUCE_FILES, ATMOS_DATA, filename, model_data, reference_data, task_name, mm, date_start, date_end, variable, mask_type, laginensemble)"
   ]
  }
 ],
 "metadata": {
  "extensions": {
   "jupyter_dashboards": {
    "activeView": "grid_default",
    "version": 1,
    "views": {
     "grid_default": {
      "cellMargin": 2,
      "defaultCellHeight": 40,
      "maxColumns": 12,
      "name": "grid",
      "type": "grid"
     }
    }
   }
  },
  "kernelspec": {
   "display_name": "prc_env",
   "language": "python",
   "name": "conda_prc_env"
  },
  "language_info": {
   "codemirror_mode": {
    "name": "ipython",
    "version": 3
   },
   "file_extension": ".py",
   "mimetype": "text/x-python",
   "name": "python",
   "nbconvert_exporter": "python",
   "pygments_lexer": "ipython3",
   "version": "3.8.15"
  }
 },
 "nbformat": 4,
 "nbformat_minor": 5
}
