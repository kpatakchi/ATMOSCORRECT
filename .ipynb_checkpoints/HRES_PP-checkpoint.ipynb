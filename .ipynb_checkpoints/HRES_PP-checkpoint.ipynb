{
 "cells": [
  {
   "cell_type": "markdown",
   "id": "7bd0bf9b-9fb6-4c20-bb03-da2c1c72bb0c",
   "metadata": {
    "tags": []
   },
   "source": [
    "## Preprocess HRES Data\n",
    "\n",
    "The following scripts are used for preprocessing HRES data mainly using CDO (Climate Data Operators) and partially using NCO (netCDF Operator).\n",
    "\n",
    "https://code.mpimet.mpg.de/projects/cdo \n",
    "\n",
    "https://nco.sourceforge.net/\n",
    "\n",
    "### Step 1)\n",
    "\n",
    "- Select `tp` (precipitation) out of the many variables for reducing the size of the NetCDF file\n",
    "\n",
    "- Change the variable name from `tp` to a common name in other used data: `pr`\n",
    "\n",
    "- Change the unit attribute of `pr` from `m` to `mm`\n",
    "\n",
    "- Convert the data from `m` to `mm`\n",
    "\n",
    "- Convert **cumulative** data into **instantaneous** using `deltat` function\n",
    "\n",
    "- Select the first **24 hours** out of 90 hours\n",
    "\n",
    "*the changes made in step 1 are saved in `HRES_DUMP`*\n",
    "\n",
    "### Step 2)\n",
    "\n",
    "- Merge all the NetCDF files generated in step 1 into one single NetCDF file using `mergetime`\n",
    "\n",
    "- Include all the changes in the `history` attribute and in a human-readable way.\n",
    "\n",
    "*the changes made in step 2  are saved in `HRES_PP`*\n",
    "\n",
    "\n",
    "### Command guides used for CDO and NCO:\n",
    "\n",
    "CDO:\n",
    "\n",
    "important! when combining several CDO operators, the commands should come in inverse order.\n",
    "mergetime cannot be combined with other operators.\n",
    "\n",
    "```\n",
    "                -L: Lock IO\n",
    "                -O: Overwrite existing output file\n",
    "                -b: Number of bits for the output (F64 64-bit floating point type)\n",
    "          -selname: Select parameters by name\n",
    "           -deltat: Difference between timesteps\n",
    "      -seltimestep: Select timesteps\n",
    "        -mergetime: Merge datasets sorted by date and time\n",
    "           -chname: Change name of a variable\n",
    "     -setattribute: Set attributes\n",
    "             -mulc: Multiply with a constant\n",
    "```\n",
    "\n",
    "NCO: \n",
    "\n",
    "```\n",
    "          -ncatted: Attribute editor\n",
    "                -O: Overwrite existing output file\n",
    "                -h: append the command to the history attribute in the output-file.\n",
    "                -a: attribute modification\n",
    "                ,a: append\n",
    "```"
   ]
  },
  {
   "cell_type": "code",
   "execution_count": null,
   "id": "0deeff94-dad1-4b90-b4d3-c968ebe36aaa",
   "metadata": {},
   "outputs": [],
   "source": [
    "rm -r $HRES_PP $HRES_DUMP $HRES_LOG\n",
    "mkdir $HRES_PP $HRES_DUMP $HRES_LOG\n",
    "\n",
    "for ncfile in $(ls $HRES_OR)\n",
    "do\n",
    "    cdo -O -b F64 --no_history -seltimestep,1/24 -deltat -mulc,1000. -setattribute,pr@units=mm -chname,tp,pr -selname,tp  $HRES_OR/$ncfile $HRES_DUMP/$ncfile.deltat.nc >& $HRES_LOG/sample.s\n",
    "done\n",
    "cdo -O -b F64 --no_history -mergetime $HRES_DUMP/ADAP*.nc $HRES_DUMP/HRES_PP_OCT_2020_2021_nohist.nc >& $HRES_LOG/sample1.s\n",
    "ncatted -O -h -a history,global,o,c,\"2022.10.21: cdo -O -b F64 -seltimestep,1/24 -deltat -mulc,1000. -setattribute,pr@units=mm -chname,tp,pr -selname,tp  cdo -O -b F64 -mergetime\" $HRES_DUMP/HRES_PP_OCT_2020_2021_nohist.nc $HRES_PP/HRES_PP_OCT_2020_2021.nc\n",
    "#end"
   ]
  },
  {
   "cell_type": "markdown",
   "id": "fb5d5225-bd08-4b1d-971e-90cb4f0e3a0a",
   "metadata": {},
   "source": [
    "## Develop\n",
    "\n",
    "The following scripts are under development."
   ]
  },
  {
   "cell_type": "code",
   "execution_count": null,
   "id": "62812abb",
   "metadata": {},
   "outputs": [],
   "source": [
    "# regrid hres data into hsaf grid\n",
    "\n",
    "cdo -O -b F64 --no_history remapbil,$EXA_DIR/h61_cropped_grid.txt $HRES_PP/HRES_PP_OCT_2020_2021.nc $HRES_PP/HRES_PP_OCT_2020_2021_Remapped.nc\n"
   ]
  },
  {
   "cell_type": "code",
   "execution_count": null,
   "id": "fa37ee3e",
   "metadata": {},
   "outputs": [],
   "source": [
    "# save hres grid\n",
    "\n",
    "cdo griddes $HRES_PP/HRES_PP_OCT_2020_2021.nc > $EXA_DIR/hres_grid.txt\n"
   ]
  }
 ],
 "metadata": {
  "kernelspec": {
   "display_name": "Bash",
   "language": "bash",
   "name": "bash"
  },
  "language_info": {
   "codemirror_mode": "shell",
   "file_extension": ".sh",
   "mimetype": "text/x-sh",
   "name": "bash"
  }
 },
 "nbformat": 4,
 "nbformat_minor": 5
}
