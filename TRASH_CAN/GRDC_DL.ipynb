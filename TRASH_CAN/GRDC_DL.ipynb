{
 "cells": [
  {
   "cell_type": "markdown",
   "id": "08930129-4bbd-4737-9816-8f468fbf153c",
   "metadata": {},
   "source": [
    "## Download GRDC Data\n",
    "\n",
    "Scan GRDC Station Catalogue, and find stations pass the following criteria:\n",
    "\n",
    "1. `lon` is between -1.1 and 18.4 degrees\n",
    "2. `lat` is between 44.1 and 56.5\n",
    "3. `t_end` is 2023"
   ]
  },
  {
   "cell_type": "code",
   "execution_count": 1,
   "id": "f7e767ae-7958-4f60-af84-96d5850d8509",
   "metadata": {},
   "outputs": [],
   "source": [
    "from py_env_hpc import *\n",
    "!pip install openpyxl"
   ]
  },
  {
   "cell_type": "code",
   "execution_count": 56,
   "id": "3d0f837f-f562-4877-8805-5eba9e5fc548",
   "metadata": {},
   "outputs": [
    {
     "data": {
      "text/plain": [
       "2"
      ]
     },
     "execution_count": 56,
     "metadata": {},
     "output_type": "execute_result"
    }
   ],
   "source": [
    "# read the data from the Excel file\n",
    "df = pd.read_excel(GRDC_DIR+'/GRDC_Stations.xlsx')\n",
    "\n",
    "# filter the data based on the criteria\n",
    "filtered_df = df[(df['long'].between(-1.1, 18.4)) & \n",
    "                 (df['lat'].between(44.1, 56.5)) & \n",
    "                 (df['t_end'] >= 2020) & \n",
    "                 (df['country'] == \"DE\")]\n",
    "\n",
    "# print the station numbers that meet the criteria\n",
    "len(filtered_df['grdc_no'])"
   ]
  },
  {
   "cell_type": "code",
   "execution_count": 58,
   "id": "904187fe-f630-4069-865e-631e67b0b185",
   "metadata": {},
   "outputs": [
    {
     "data": {
      "text/html": [
       "<div>\n",
       "<style scoped>\n",
       "    .dataframe tbody tr th:only-of-type {\n",
       "        vertical-align: middle;\n",
       "    }\n",
       "\n",
       "    .dataframe tbody tr th {\n",
       "        vertical-align: top;\n",
       "    }\n",
       "\n",
       "    .dataframe thead th {\n",
       "        text-align: right;\n",
       "    }\n",
       "</style>\n",
       "<table border=\"1\" class=\"dataframe\">\n",
       "  <thead>\n",
       "    <tr style=\"text-align: right;\">\n",
       "      <th></th>\n",
       "      <th>grdc_no</th>\n",
       "      <th>wmo_reg</th>\n",
       "      <th>sub_reg</th>\n",
       "      <th>river</th>\n",
       "      <th>station</th>\n",
       "      <th>country</th>\n",
       "      <th>lat</th>\n",
       "      <th>long</th>\n",
       "      <th>area</th>\n",
       "      <th>altitude</th>\n",
       "      <th>...</th>\n",
       "      <th>m_start</th>\n",
       "      <th>m_end</th>\n",
       "      <th>m_yrs</th>\n",
       "      <th>m_miss</th>\n",
       "      <th>t_start</th>\n",
       "      <th>t_end</th>\n",
       "      <th>t_yrs</th>\n",
       "      <th>lta_discharge</th>\n",
       "      <th>r_volume_yr</th>\n",
       "      <th>r_height_yr</th>\n",
       "    </tr>\n",
       "  </thead>\n",
       "  <tbody>\n",
       "    <tr>\n",
       "      <th>8745</th>\n",
       "      <td>6335170</td>\n",
       "      <td>6</td>\n",
       "      <td>6351</td>\n",
       "      <td>RHINE RIVER</td>\n",
       "      <td>SPEYER</td>\n",
       "      <td>DE</td>\n",
       "      <td>49.323807</td>\n",
       "      <td>8.448717</td>\n",
       "      <td>53131.0</td>\n",
       "      <td>88.52</td>\n",
       "      <td>...</td>\n",
       "      <td>NaN</td>\n",
       "      <td>NaN</td>\n",
       "      <td>NaN</td>\n",
       "      <td>NaN</td>\n",
       "      <td>1950</td>\n",
       "      <td>2020</td>\n",
       "      <td>71</td>\n",
       "      <td>1268.329</td>\n",
       "      <td>39.998023</td>\n",
       "      <td>752.818945</td>\n",
       "    </tr>\n",
       "    <tr>\n",
       "      <th>8747</th>\n",
       "      <td>6335180</td>\n",
       "      <td>6</td>\n",
       "      <td>6351</td>\n",
       "      <td>RHINE RIVER</td>\n",
       "      <td>WORMS</td>\n",
       "      <td>DE</td>\n",
       "      <td>49.641120</td>\n",
       "      <td>8.376019</td>\n",
       "      <td>68827.0</td>\n",
       "      <td>84.16</td>\n",
       "      <td>...</td>\n",
       "      <td>NaN</td>\n",
       "      <td>NaN</td>\n",
       "      <td>NaN</td>\n",
       "      <td>NaN</td>\n",
       "      <td>1930</td>\n",
       "      <td>2020</td>\n",
       "      <td>91</td>\n",
       "      <td>1409.172</td>\n",
       "      <td>44.439648</td>\n",
       "      <td>645.67173</td>\n",
       "    </tr>\n",
       "  </tbody>\n",
       "</table>\n",
       "<p>2 rows × 24 columns</p>\n",
       "</div>"
      ],
      "text/plain": [
       "      grdc_no  wmo_reg  sub_reg        river station country        lat  \\\n",
       "8745  6335170        6     6351  RHINE RIVER  SPEYER      DE  49.323807   \n",
       "8747  6335180        6     6351  RHINE RIVER   WORMS      DE  49.641120   \n",
       "\n",
       "          long     area  altitude  ...  m_start  m_end  m_yrs  m_miss  \\\n",
       "8745  8.448717  53131.0     88.52  ...      NaN    NaN    NaN     NaN   \n",
       "8747  8.376019  68827.0     84.16  ...      NaN    NaN    NaN     NaN   \n",
       "\n",
       "      t_start  t_end  t_yrs  lta_discharge  r_volume_yr  r_height_yr  \n",
       "8745     1950   2020     71       1268.329    39.998023   752.818945  \n",
       "8747     1930   2020     91       1409.172    44.439648    645.67173  \n",
       "\n",
       "[2 rows x 24 columns]"
      ]
     },
     "execution_count": 58,
     "metadata": {},
     "output_type": "execute_result"
    }
   ],
   "source": [
    "filtered_df"
   ]
  }
 ],
 "metadata": {
  "kernelspec": {
   "display_name": "prc_env",
   "language": "python",
   "name": "conda_prc_env"
  },
  "language_info": {
   "codemirror_mode": {
    "name": "ipython",
    "version": 3
   },
   "file_extension": ".py",
   "mimetype": "text/x-python",
   "name": "python",
   "nbconvert_exporter": "python",
   "pygments_lexer": "ipython3",
   "version": "3.8.15"
  }
 },
 "nbformat": 4,
 "nbformat_minor": 5
}
