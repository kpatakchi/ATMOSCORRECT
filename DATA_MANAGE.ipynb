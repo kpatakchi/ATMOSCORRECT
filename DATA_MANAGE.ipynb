{
 "cells": [
  {
   "cell_type": "markdown",
   "id": "f44a09d5-9bbd-495c-aa70-c95fbf001e6c",
   "metadata": {},
   "source": [
    "## Data/Directory Management\n",
    "\n",
    "Documentation on whereabouts of data directories and data management (copying, transferring and maintaining the data).\n",
    "\n",
    "### 1. HRES Data\n",
    "\n",
    "- Internal directories:\n",
    "\n",
    "`HRES_OR` is the directory for raw HRES data (directly downloaded from ECMWF for extended DE05 domain).\n",
    "\n",
    "`HRES_PP` is the directory where the HRES data are preprocessed according to step 2 in `HRES_PP.ipynb`.\n",
    "\n",
    "`HRES_DUMP` is the directory used for saving and dumping preprocessed HRES data in step 1 according to `HRES_PP.ipnb`.\n",
    "\n",
    "`HRES_LOG` is the directory used for saving log files of data preprocessing.\n",
    "\n",
    "- External directories:\n",
    "\n",
    "`HRES_RET` is where the retrieved HRES data are stored (pfgpude05 project as of October 2022).\n",
    "\n",
    "#### 1.1. Retrieving HRES data from 01.10.2020 until 30.09.2021\n",
    "\n",
    "#### 1.2. Retrieving HRES data from 01.10.2020 until 25.04.2023\n",
    "\n",
    "\n",
    "### 2. HSAF Data\n",
    "\n",
    "- Internal directories:\n",
    "\n",
    "`HSAF_OR` is the directory for raw HSAF data (directly downloaded from EUMETSAT for h61 product coverage).\n",
    "\n",
    "`HSAF_PP` is the directory where the single NetCDF preprocessed file is stored according to `HSAF_PP.ipynb`.\n",
    "\n",
    "`HSAF_DUMP` is the directory used for saving and dumping preprocessed HSAF data in the first step according to `HSAF_PP.ipnb`.\n",
    "\n",
    "`HSAF_LOG` is the directory used for saving log files of data preprocessing.\n",
    "\n",
    "`HSAF_UTI` is the directory where the HSAF Utilities are saved.\n",
    "\n",
    "`HSAF_RG` is the directory where the preprocessed and regridded single NetCDF file is stored according to `HSAF_PP.ipnb`.\n",
    "\n",
    "- External directories:\n",
    "\n",
    "`HSAF_RET` is where the retrieved HSAF data are stored (shared_data in slts largedata as of October 2022).\n",
    "\n",
    "#### 2.1. Retrieving HSAF data from 01.10.2020 until 30.09.2021"
   ]
  },
  {
   "cell_type": "markdown",
   "id": "169df762-1461-417d-9c9a-924165e3d1f6",
   "metadata": {},
   "source": [
    "### 1. HRES Data"
   ]
  },
  {
   "cell_type": "markdown",
   "id": "5e050939-bfc7-46a9-b5ff-1a9117232183",
   "metadata": {
    "jp-MarkdownHeadingCollapsed": true,
    "tags": []
   },
   "source": [
    "#### 1.1. Retrieving HRES data from 01.10.2020 until 30.09.2021\n"
   ]
  },
  {
   "cell_type": "code",
   "execution_count": null,
   "id": "b8c36ebb-bdd2-42fc-8142-4878cd20d99b",
   "metadata": {},
   "outputs": [],
   "source": [
    "# Data management scripts for retrieving HRES data from 01.10.2020 until 30.09.2021\n",
    "source bashenv\n",
    "\n",
    "#remove all files in OR_DIR and copy the new files from HRES_RET\n",
    "rm $HRES_OR/*\n",
    "tar -xvf $HRES_RET/2020.tar $HRES_OR/\n",
    "# move files one directory up and delete the mother folder\n",
    "mv $HRES_OR/2020/* $HRES_OR\n",
    "rm -r $HRES_OR/2020\n",
    "cp $HRES_RET/2021/* $HRES_OR/\n",
    "\n",
    "cd $HRES_OR\n",
    "# keep only the 0-90 files and between the specified dates\n",
    "rm *144* *202001* *202002* *202003* *202004* *202005* *202006* *202007* *202008* *202009* *202110* *202111* *202112*"
   ]
  },
  {
   "cell_type": "markdown",
   "id": "8bb65535-0a4c-43c9-857a-d98d45b6e79c",
   "metadata": {
    "tags": []
   },
   "source": [
    "#### 1.2. Retrieving HRES data from 01.07.2020 until 25.04.2023 (1,025 days, 24600 hours)\n"
   ]
  },
  {
   "cell_type": "code",
   "execution_count": null,
   "id": "ecf482ed-d602-4881-8cdc-ebd362f4bcb4",
   "metadata": {},
   "outputs": [],
   "source": [
    "# Data management scripts for retrieving HRES data from 07.2020 until 04.2023\n",
    "source bashenv\n",
    "\n",
    "#remove all files in HRES_OR and copy the new files from HRES_RET\n",
    "rm -r $HRES_OR/*\n",
    "tar -xf $HRES_RET/2020.tar -C $HRES_OR/\n",
    "echo \"tar extract done\" \n",
    "\n",
    "# move files one directory up and delete the mother folder\n",
    "mv $HRES_OR/2020/* $HRES_OR\n",
    "rm -r $HRES_OR/2020\n",
    "\n",
    "# copy files from other years\n",
    "cp $HRES_RET/2021/* $HRES_OR/\n",
    "cp $HRES_RET/2022/* $HRES_OR/\n",
    "cp $HRES_RET/2023/* $HRES_OR/\n",
    "\n",
    "cd $HRES_OR\n",
    "# keep only the 0-90 files and between the specified dates\n",
    "rm *202001* *202002* *202003* *202004* *202005* *202006* *202305* *144*"
   ]
  },
  {
   "cell_type": "markdown",
   "id": "a1c9d2d7-7c61-4ef5-8321-38b21cc808c7",
   "metadata": {},
   "source": [
    "### 2. HSAF Data"
   ]
  },
  {
   "cell_type": "markdown",
   "id": "dc50ba63-4483-434f-9d16-7784ff654b02",
   "metadata": {},
   "source": [
    "#### 2.1. Retrieving HSAF data from 01.10.2020 until 30.09.2021"
   ]
  },
  {
   "cell_type": "code",
   "execution_count": null,
   "id": "00bca77a-aa4b-492e-bfb4-f540692f04b4",
   "metadata": {},
   "outputs": [],
   "source": [
    "# Data management scripts for retrieving HSAF data from 01.10.2020 until 30.09.2021\n",
    "source bashenv\n",
    "\n",
    "# make the non-existing directories:\n",
    "mkdir $OR_DIR $PP_DIR $DUMP_DIR $LOG_DIR \n",
    "# copy the data from HSAF_RET to OR_DIR\n",
    "cd $HSAF_RET\n",
    "cp *202010*_01_fdk.nc *202011*_01_fdk.nc *202012*_01_fdk.nc *202101*_01_fdk.nc *202102*_01_fdk.nc *202103*_01_fdk.nc *202104*_01_fdk.nc *202105*_01_fdk.nc *202106*_01_fdk.nc *202107*_01_fdk.nc *202108*_01_fdk.nc *202109*_01_fdk.nc $HSAF_OR/"
   ]
  },
  {
   "cell_type": "markdown",
   "id": "3c658b60-3a65-4b4a-80ba-bce9e83f606e",
   "metadata": {},
   "source": [
    "#### 2.2. Retrieving HSAF data from 01.07.2020 until 25.04.2023 (1,025 days, 24600 hours)"
   ]
  },
  {
   "cell_type": "code",
   "execution_count": 1,
   "id": "764b45e0-b3ab-4597-a8ba-471e48d098c4",
   "metadata": {},
   "outputs": [],
   "source": [
    "source bashenv\n",
    "# make the non-existing directories:\n",
    "# mkdir $OR_DIR $PP_DIR $DUMP_DIR $LOG_DIR \n",
    "# copy the data from HSAF_RET to OR_DIR\n",
    "cd $HSAF_RET\n",
    "cp *202007*_01_fdk.nc *202008*_01_fdk.nc *202009*_01_fdk.nc *202010*_01_fdk.nc *202011*_01_fdk.nc *202012*_01_fdk.nc *202101*_01_fdk.nc *202102*_01_fdk.nc *202103*_01_fdk.nc *202104*_01_fdk.nc *202105*_01_fdk.nc *202106*_01_fdk.nc *202107*_01_fdk.nc *202108*_01_fdk.nc *202109*_01_fdk.nc *202110*_01_fdk.nc *202111*_01_fdk.nc *202112*_01_fdk.nc *202201*_01_fdk.nc *202202*_01_fdk.nc *202203*_01_fdk.nc *202204*_01_fdk.nc *202205*_01_fdk.nc *202206*_01_fdk.nc *202207*_01_fdk.nc *202208*_01_fdk.nc *202209*_01_fdk.nc *202210*_01_fdk.nc *202211*_01_fdk.nc *202212*_01_fdk.nc *202301*_01_fdk.nc *202302*_01_fdk.nc *202303*_01_fdk.nc *202304*_01_fdk.nc $HSAF_OR/\n"
   ]
  }
 ],
 "metadata": {
  "kernelspec": {
   "display_name": "Bash",
   "language": "bash",
   "name": "bash"
  },
  "language_info": {
   "codemirror_mode": "shell",
   "file_extension": ".sh",
   "mimetype": "text/x-sh",
   "name": "bash"
  }
 },
 "nbformat": 4,
 "nbformat_minor": 5
}
