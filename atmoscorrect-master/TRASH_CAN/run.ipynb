{
 "cells": [
  {
   "cell_type": "code",
   "execution_count": 2,
   "id": "a6eb6b11-c6df-44fb-8139-b583ad544fa4",
   "metadata": {},
   "outputs": [],
   "source": [
    "cd /p/project/deepacf/kiste/patakchiyousefi1/CODES/CODES-MS2/PLAYGROUND/ATMOSCORRECT/\n",
    "chmod +x hpt.py\n",
    "\n",
    "sbatch job.sh"
   ]
  }
 ],
 "metadata": {
  "kernelspec": {
   "display_name": "Bash",
   "language": "bash",
   "name": "bash"
  },
  "language_info": {
   "codemirror_mode": "shell",
   "file_extension": ".sh",
   "mimetype": "text/x-sh",
   "name": "bash"
  }
 },
 "nbformat": 4,
 "nbformat_minor": 5
}
