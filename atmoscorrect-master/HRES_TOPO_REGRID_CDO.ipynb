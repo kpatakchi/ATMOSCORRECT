{
 "cells": [
  {
   "cell_type": "markdown",
   "id": "da5a29d0-f05b-4f3f-84ad-cb91fec28016",
   "metadata": {},
   "source": [
    "## Regrid 0.125degree DEM to 0.1 degree HRES grid:"
   ]
  },
  {
   "cell_type": "code",
   "execution_count": 7,
   "id": "4243bc19-d29a-4b9e-97fa-206a2647196c",
   "metadata": {},
   "outputs": [
    {
     "name": "stdout",
     "output_type": "stream",
     "text": [
      "bash: bashenv: No such file or directory\n",
      "directories are wiped, topography map is copied and home directory is chosen\n"
     ]
    }
   ],
   "source": [
    "source bashenv\n",
    "rm -r $HRES_TOPO\n",
    "mkdir $HRES_TOPO\n",
    "# copy tsmp topo file into the directory\n",
    "topo_dir='/p/project/deepacf/kiste/patakchiyousefi1/IO/03-TOPOGRAPHY/GMTED2010_15n030_0125deg.nc'\n",
    "cp $topo_dir $HRES_TOPO\n",
    "cd $HRES_TOPO\n",
    "topofile='GMTED2010_15n030_0125deg.nc'\n",
    "echo \"directories are wiped, topography map is copied and home directory is chosen\""
   ]
  },
  {
   "cell_type": "code",
   "execution_count": null,
   "id": "59ef1855-1584-40fc-b7eb-c3761081faa6",
   "metadata": {},
   "outputs": [
    {
     "name": "stdout",
     "output_type": "stream",
     "text": [
      "\u001b[32mcdo(1) setgrid: \u001b[0mProcess started\n",
      "Warning (cdfInqContents): NetCDF4 groups not supported! Found 1 root group.\n",
      "Warning (cdfInqContents): NetCDF4 groups not supported! Found 1 root group.\n",
      "\u001b[32mcdo    remapbil: \u001b[0mBilinear weights from lonlat (2880x1440) to lonlat (196x125) grid\n",
      "cdo    remapbil:                        1 1 1 1 1 1 1 1 1 1 2 2 2 2 2 2 2 2 2 2 3 3 3 3 3 3 3 3 3 3 4 4 4 4 4 4 4 4 4 4 5 5 5 5 5 5 5 5 5 5 6 6 6 6 6 6 6 6 6 6 7 7 7 7 7 7 7 7 7 7 8 8 8 8 8 8 8 8 8 8 9 9 9 9 9 9 9 9 9 91\u001b[32mcdo(1) setgrid: \u001b[0mProcessed 16588800 values from 4 variables over 1 timestep.\n",
      "\u001b[32mcdo    remapbil: \u001b[0mProcessed 16588800 values from 4 variables over 1 timestep [0.37s 185MB].\n",
      "remapbil  remapping is done\n",
      "\u001b[32mcdo(1) setgrid: \u001b[0mProcess started\n",
      "Warning (cdfInqContents): NetCDF4 groups not supported! Found 1 root group.\n",
      "Warning (cdfInqContents): NetCDF4 groups not supported! Found 1 root group.\n",
      "\u001b[32mcdo    remapbic: \u001b[0mBicubic weights from lonlat (2880x1440) to lonlat (196x125) grid\n",
      "cdo    remapbic:                        1 1 1 1 1 1 1 1 1 1 2 2 2 2 2 2 2 2 2 2 3 3 3 3 3 3 3 3 3 3 4 4 4 4 4 4 4 4 4 4 5 5 5 5 5 5 5 5 5 5 6 6 6 6 6 6 6 6 6 6 7 7 7 7 7 7 7 7 7 7 8 8 8 8 8 8 8 8 8 8 9 9 9 9 9 9 9 9 9 91\u001b[32mcdo(1) setgrid: \u001b[0mProcessed 16588800 values from 4 variables over 1 timestep.\n",
      "\u001b[32mcdo    remapbic: \u001b[0mProcessed 16588800 values from 4 variables over 1 timestep [0.81s 292MB].\n",
      "remapbic  remapping is done\n",
      "\u001b[32mcdo(1) setgrid: \u001b[0mProcess started\n",
      "Warning (cdfInqContents): NetCDF4 groups not supported! Found 1 root group.\n",
      "Warning (cdfInqContents): NetCDF4 groups not supported! Found 1 root group.\n",
      "\u001b[32mcdo    remapnn: \u001b[0mNearest neighbor weights from lonlat (2880x1440) to lonlat (196x125) grid\n",
      "cdo    remapnn:                        1 1 1 1 1 1 1 1 1 1 2 2 2 2 2 2 2 2 2 2 3 3 3 3 3 3 3 3 3 3 4 4 4 4 4 4 4 4 4 4 5 5 5 5 5 5 5 5 5 5 6 6 6 6 6 6 6 6 6 6 7 7 7 7 7 7 7 7 7 7 8 8 8 8 8 8 8 8 8 8 9 9 9 9 9 9 9 9 9 910\u001b[32mcdo(1) setgrid: \u001b[0mProcessed 16588800 values from 4 variables over 1 timestep.\n",
      "\u001b[32mcdo    remapnn: \u001b[0mProcessed 16588800 values from 4 variables over 1 timestep [0.42s 183MB].\n",
      "remapnn  remapping is done\n",
      "\u001b[32mcdo(1) setgrid: \u001b[0mProcess started\n",
      "Warning (cdfInqContents): NetCDF4 groups not supported! Found 1 root group.\n",
      "Warning (cdfInqContents): NetCDF4 groups not supported! Found 1 root group.\n",
      "\u001b[32mcdo    remapdis: \u001b[0mDistance-weighted average weights from lonlat (2880x1440) to lonlat (196x125) grid\n",
      "cdo    remapdis:                        1 1 1 1 1 1 1 1 1 1 2 2 2 2 2 2 2 2 2 2 3 3 3 3 3 3 3 3 3 3 4 4 4 4 4 4 4 4 4 4 5 5 5 5 5 5 5 5 5 5 6 6 6 6 6 6 6 6 6 6 7 7 7 7 7 7 7 7 7 7 8 8 8 8 8 8 8 8 8 8 9 9 9 9 9 9 9 9 9 91\u001b[32mcdo(1) setgrid: \u001b[0mProcessed 16588800 values from 4 variables over 1 timestep.\n",
      "\u001b[32mcdo    remapdis: \u001b[0mProcessed 16588800 values from 4 variables over 1 timestep [0.35s 185MB].\n",
      "remapdis  remapping is done\n",
      "\u001b[32mcdo(1) setgrid: \u001b[0mProcess started\n",
      "Warning (cdfInqContents): NetCDF4 groups not supported! Found 1 root group.\n",
      "Warning (cdfInqContents): NetCDF4 groups not supported! Found 1 root group.\n",
      "\u001b[32mcdo    remapcon: \u001b[0mYAC first order conservative weights from lonlat (2880x1440) to lonlat (196x125) grid\n",
      "cdo    remapcon:                        1 1 1 1 1 1 1 1 1 1 2 2 2 2 2 2 2 2 2 2 3 3 3 3 3 3 3 3 3 3 4 4 4 4 4 4 4 4 4 4 5 5 5 5 5 5 5 5 5 5 6 6 6 6 6 6 6 6 6 6 7 7 7 7 7 7 7 7 7 7 8 8 8 8 8 8 8 8 8 8 9 9 9 9 9 9 9 9 9 91\u001b[32mcdo(1) setgrid: \u001b[0mProcessed 16588800 values from 4 variables over 1 timestep.\n",
      "\u001b[32mcdo    remapcon: \u001b[0mProcessed 16588800 values from 4 variables over 1 timestep [0.49s 215MB].\n",
      "remapcon  remapping is done\n",
      "\u001b[32mcdo(1) setgrid: \u001b[0mProcess started\n",
      "Warning (cdfInqContents): NetCDF4 groups not supported! Found 1 root group.\n",
      "Warning (cdfInqContents): NetCDF4 groups not supported! Found 1 root group.\n",
      "\u001b[32mcdo    remapcon2: \u001b[0mSCRIP second order conservative weights from lonlat (2880x1440) to lonlat (196x125) grid\n"
     ]
    }
   ],
   "source": [
    "remapmethods=(\"remapbil\" \"remapbic\" \"remapnn\" \"remapdis\" \"remapcon\" \"remapcon2\" \"remaplaf\")\n",
    "for method in ${remapmethods[@]}\n",
    "do\n",
    "    cdo -L -O $method,$HRES_UTI/hres_grid.txt -setgrid,$topofile $topofile $topofile\".\"$method\".nc\"    \n",
    "    echo $method \" remapping is done\"\n",
    "done"
   ]
  }
 ],
 "metadata": {
  "kernelspec": {
   "display_name": "Bash",
   "language": "bash",
   "name": "bash"
  },
  "language_info": {
   "codemirror_mode": "shell",
   "file_extension": ".sh",
   "mimetype": "text/x-sh",
   "name": "bash"
  }
 },
 "nbformat": 4,
 "nbformat_minor": 5
}
